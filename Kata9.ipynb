{
 "cells": [
  {
   "cell_type": "markdown",
   "metadata": {},
   "source": [
    "# Ejercicios - Kata9"
   ]
  },
  {
   "cell_type": "markdown",
   "metadata": {},
   "source": [
    "## Ejercicio 1: Trabajar con argumentos en funciones"
   ]
  },
  {
   "cell_type": "code",
   "execution_count": 1,
   "metadata": {},
   "outputs": [],
   "source": [
    "# Función para leer 3 tanques de combustible y muestre el promedio\n",
    "def reporte_tanq (tanq1, tanq2, tanq3):\n",
    "    avg = (tanq1 + tanq2 + tanq3) / 3\n",
    "    return f\"\"\"\"Report: {avg}\"\"\""
   ]
  },
  {
   "cell_type": "code",
   "execution_count": 2,
   "metadata": {},
   "outputs": [
    {
     "name": "stdout",
     "output_type": "stream",
     "text": [
      "\"Report: 75.33333333333333\n"
     ]
    }
   ],
   "source": [
    "# Llamamos a la función que genera el reporte \n",
    "print(reporte_tanq(60 ,80 ,86))"
   ]
  },
  {
   "cell_type": "code",
   "execution_count": 3,
   "metadata": {},
   "outputs": [],
   "source": [
    "# Función promedio \n",
    "def average(values):\n",
    "    total = sum(values)\n",
    "    total_items = len(values)\n",
    "    return total / total_items\n"
   ]
  },
  {
   "cell_type": "code",
   "execution_count": 4,
   "metadata": {},
   "outputs": [
    {
     "data": {
      "text/plain": [
       "84.66666666666667"
      ]
     },
     "execution_count": 4,
     "metadata": {},
     "output_type": "execute_result"
    }
   ],
   "source": [
    "average([86, 89, 79])"
   ]
  },
  {
   "cell_type": "code",
   "execution_count": 5,
   "metadata": {},
   "outputs": [],
   "source": [
    "# Actualiza la función\n",
    "# Función para leer 3 tanques de combustible y muestre el promedio\n",
    "def reporte_tanq (tanq1, tanq2, tanq3):\n",
    "    return f\"\"\"\"Report: {average([tanq1, tanq2, tanq3])}\"\"\""
   ]
  },
  {
   "cell_type": "code",
   "execution_count": 8,
   "metadata": {},
   "outputs": [
    {
     "name": "stdout",
     "output_type": "stream",
     "text": [
      "\"Report: 75.33333333333333\n"
     ]
    }
   ],
   "source": [
    "print(reporte_tanq(60 ,80 ,86))"
   ]
  },
  {
   "cell_type": "markdown",
   "metadata": {},
   "source": [
    "## Ejercicio 2: Trabajo con argumentos de palabra clave"
   ]
  },
  {
   "cell_type": "code",
   "execution_count": 9,
   "metadata": {},
   "outputs": [],
   "source": [
    "# Función con un informe preciso de la misión.\n",
    "#hora de prelanzamiento, tiempo de vuelo, destino, tanque externo y tanque interno\n",
    "def mission_report(h_prelanzamiento, tiempo_vuelo, destino, tanq_externo, tanq_interno):\n",
    "    return f\"\"\"\n",
    "    Misión a  {destino}\n",
    "    Tiempo total de viaje: {h_prelanzamiento + tiempo_vuelo} minutos\n",
    "    Total fuel left: {tanq_externo + tanq_interno} galones\n",
    "    \"\"\""
   ]
  },
  {
   "cell_type": "code",
   "execution_count": 10,
   "metadata": {},
   "outputs": [
    {
     "name": "stdout",
     "output_type": "stream",
     "text": [
      "\n",
      "    Misión a  Moon\n",
      "    Tiempo total de viaje: 65 minutos\n",
      "    Total fuel left: 500000 galones\n",
      "    \n"
     ]
    }
   ],
   "source": [
    "print(mission_report(14, 51, \"Luna\", 200000, 300000))"
   ]
  },
  {
   "cell_type": "code",
   "execution_count": 11,
   "metadata": {},
   "outputs": [],
   "source": [
    "# Nueva función de reporte\n",
    "def mission_report(destino, *minutes, **fuel_reservoirs):\n",
    "    return f\"\"\"\n",
    "    Mision a  {destino}\n",
    "    Tiempo total de vije: {sum(minutes)} minutes\n",
    "    Total fuel left: {sum(fuel_reservoirs.values())}\n",
    "    \"\"\""
   ]
  },
  {
   "cell_type": "code",
   "execution_count": 12,
   "metadata": {},
   "outputs": [
    {
     "name": "stdout",
     "output_type": "stream",
     "text": [
      "\n",
      "    Mission to Moon\n",
      "    Total travel time: 76 minutes\n",
      "    Total fuel left: 500000\n",
      "    \n"
     ]
    }
   ],
   "source": [
    "print(mission_report(\"Moon\", 10, 15, 51, main=300000, external=200000))"
   ]
  },
  {
   "cell_type": "code",
   "execution_count": 14,
   "metadata": {},
   "outputs": [],
   "source": [
    "# Actualizando nueva función\n",
    "def mission_report(destination, *minutes, **fuel_reservoirs):\n",
    "    main_report = f\"\"\"\n",
    "    Mission to {destination}\n",
    "    Total travel time: {sum(minutes)} minutes\n",
    "    Total fuel left: {sum(fuel_reservoirs.values())}\n",
    "    \"\"\"\n",
    "    for tank_name, gallons in fuel_reservoirs.items():\n",
    "        main_report += f\"{tank_name} tank --> {gallons} gallons left\\n\"\n",
    "    return main_report"
   ]
  },
  {
   "cell_type": "code",
   "execution_count": 15,
   "metadata": {},
   "outputs": [
    {
     "name": "stdout",
     "output_type": "stream",
     "text": [
      "\n",
      "    Mission to Moon\n",
      "    Total travel time: 74 minutes\n",
      "    Total fuel left: 500000\n",
      "    main tank --> 300000 gallons left\n",
      "external tank --> 200000 gallons left\n",
      "\n"
     ]
    }
   ],
   "source": [
    "print(mission_report(\"Moon\", 8, 11, 55, main=300000, external=200000))"
   ]
  }
 ],
 "metadata": {
  "interpreter": {
   "hash": "6181b1c3688de3b0056719eb8ae8dd997107105b22af933e6be00aee95bae938"
  },
  "kernelspec": {
   "display_name": "Python 3.9.10 64-bit (windows store)",
   "language": "python",
   "name": "python3"
  },
  "language_info": {
   "codemirror_mode": {
    "name": "ipython",
    "version": 3
   },
   "file_extension": ".py",
   "mimetype": "text/x-python",
   "name": "python",
   "nbconvert_exporter": "python",
   "pygments_lexer": "ipython3",
   "version": "3.9.10"
  },
  "orig_nbformat": 4
 },
 "nbformat": 4,
 "nbformat_minor": 2
}
