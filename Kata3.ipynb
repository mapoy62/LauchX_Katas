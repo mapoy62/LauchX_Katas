{
 "cells": [
  {
   "cell_type": "markdown",
   "metadata": {},
   "source": [
    "### Ejemplos lógica booleana"
   ]
  },
  {
   "cell_type": "code",
   "execution_count": 1,
   "metadata": {},
   "outputs": [],
   "source": [
    "#ejm 1\n",
    "a = 97\n",
    "b = 55\n",
    "if a < b: #expresión de prueba\n",
    "    print(b) #Instrucción a ejecutar"
   ]
  },
  {
   "cell_type": "code",
   "execution_count": 3,
   "metadata": {},
   "outputs": [
    {
     "name": "stdout",
     "output_type": "stream",
     "text": [
      "93\n"
     ]
    }
   ],
   "source": [
    "#ejm 2\n",
    "a = 93\n",
    "b = 27\n",
    "if (a >= b): #expresión de prueba\n",
    "    print(a) #Instrucción a ejecutar"
   ]
  },
  {
   "cell_type": "code",
   "execution_count": 4,
   "metadata": {},
   "outputs": [
    {
     "name": "stdout",
     "output_type": "stream",
     "text": [
      "44\n"
     ]
    }
   ],
   "source": [
    "#ejm 3\n",
    "a = 24\n",
    "b = 44\n",
    "if a <= 0: #expresión de prueba\n",
    "    print(a) #Instrucción a ejecutar\n",
    "print(b)"
   ]
  },
  {
   "cell_type": "code",
   "execution_count": 5,
   "metadata": {},
   "outputs": [
    {
     "name": "stdout",
     "output_type": "stream",
     "text": [
      "93\n"
     ]
    }
   ],
   "source": [
    "#ejm 4 - if-else\n",
    "a = 93\n",
    "b = 27\n",
    "if a >= b: #expresión de prueba\n",
    "    print(a) #Instrucción a ejecutar\n",
    "else: \n",
    "    print(b)"
   ]
  },
  {
   "cell_type": "code",
   "execution_count": 7,
   "metadata": {},
   "outputs": [
    {
     "name": "stdout",
     "output_type": "stream",
     "text": [
      "a es mayor o igual que b\n"
     ]
    }
   ],
   "source": [
    "#ejm 5 - elif\n",
    "a = 93\n",
    "b = 27\n",
    "if a >= b: #expresión de prueba\n",
    "    print(\"a es mayor o igual que b\") #Instrucción a ejecutar\n",
    "elif a==b: \n",
    "    print(\"a es igualque b\")"
   ]
  },
  {
   "cell_type": "code",
   "execution_count": 8,
   "metadata": {},
   "outputs": [
    {
     "name": "stdout",
     "output_type": "stream",
     "text": [
      "a es mayor o igual que b\n"
     ]
    }
   ],
   "source": [
    "#ejm 6 - combinación\n",
    "a = 93\n",
    "b = 27\n",
    "if a > b: #expresión de prueba\n",
    "    print(\"a es mayor o igual que b\") #Instrucción a ejecutar\n",
    "elif a < b: \n",
    "    print(\"a es menor que b\")\n",
    "else:\n",
    "    print(\"a es igual que b\")"
   ]
  },
  {
   "cell_type": "code",
   "execution_count": 9,
   "metadata": {},
   "outputs": [
    {
     "name": "stdout",
     "output_type": "stream",
     "text": [
      "a es menor que b\n"
     ]
    }
   ],
   "source": [
    "#ejm 7 - Lógica condicional anidada\n",
    "a = 16\n",
    "b = 25\n",
    "c = 27\n",
    "if a > b:\n",
    "    if b > c:\n",
    "        print (\"a es mayor que b y b es mayor que c\")\n",
    "    else: \n",
    "        print (\"a es mayor que b y menor que c\")\n",
    "elif a == b:\n",
    "    print (\"a es igual que b\")\n",
    "else:\n",
    "    print (\"a es menor que b\")"
   ]
  },
  {
   "cell_type": "code",
   "execution_count": 10,
   "metadata": {},
   "outputs": [
    {
     "name": "stdout",
     "output_type": "stream",
     "text": [
      "57\n"
     ]
    }
   ],
   "source": [
    "#ejm 8 - Operador \"or\"\n",
    "a = 23\n",
    "b = 34\n",
    "if a == 34 or b == 34:\n",
    "    print(a + b)"
   ]
  },
  {
   "cell_type": "code",
   "execution_count": 11,
   "metadata": {},
   "outputs": [],
   "source": [
    "#ejm 9 - Operador \"and\"\n",
    "a = 23\n",
    "b = 34\n",
    "if a == 34 and b == 34:\n",
    "    print (a + b)"
   ]
  },
  {
   "cell_type": "markdown",
   "metadata": {},
   "source": [
    "### Ejercicios if, else, elif"
   ]
  },
  {
   "cell_type": "markdown",
   "metadata": {},
   "source": [
    "Imprima una advertencia si un asteroide se acerca a la Tierra demasiado rápido. La velocidad del asteroide varía dependiendo de lo cerca que esté del sol, y cualquier velocidad superior a 25 kilómetros por segundo (km/s) merece una advertencia.\n",
    "\n",
    "Un asteroide se acerca, y viaja a una velocidad de 49 km/s."
   ]
  },
  {
   "cell_type": "code",
   "execution_count": 5,
   "metadata": {},
   "outputs": [
    {
     "name": "stdout",
     "output_type": "stream",
     "text": [
      "¡Cuidado! Viene un asteroide muy rápido. Protégete\n"
     ]
    }
   ],
   "source": [
    "velocidad = 49\n",
    "if velocidad > 25:\n",
    "    print(\"¡Cuidado! Viene un asteroide muy rápido. Protégete\")\n",
    "else:\n",
    "    print(\"No hay que entrar en pánico, el asteroide no viene rápido\")\n",
    "    "
   ]
  },
  {
   "cell_type": "markdown",
   "metadata": {},
   "source": [
    "Si un asteroide entra en la atmósfera de la Tierra a una velocidad mayor o igual a 20 km/s, a veces produce un rayo de luz que se puede ver desde la Tierra. \n",
    "Alerta a las personas de todo el mundo que deben buscar un asteroide en el cielo. ¡Hay uno que se dirige a la tierra ahora a una velocidad de 19 km/s!"
   ]
  },
  {
   "cell_type": "code",
   "execution_count": 4,
   "metadata": {},
   "outputs": [
    {
     "name": "stdout",
     "output_type": "stream",
     "text": [
      "No hay que entrar en pánico, el asteroide no viene cerca\n"
     ]
    }
   ],
   "source": [
    "velocidad = 19\n",
    "if velocidad > 20:\n",
    "    print(\"Busca una luz en el cielo. ¡Hay un asteroide que se dirige a la tierra!\")\n",
    "elif velocidad == 20:\n",
    "    print(\"Busca una luz en el cielo. ¡Hay un asteroide que se dirige a la tierra!\")\n",
    "else:\n",
    "    print(\"No hay que entrar en pánico, el asteroide no viene cerca\")"
   ]
  },
  {
   "cell_type": "markdown",
   "metadata": {},
   "source": [
    "### Ejercicos and-or"
   ]
  },
  {
   "cell_type": "markdown",
   "metadata": {},
   "source": [
    "Los asteroides de menos de 25 metros en su dimensión más grande probablemente se quemarán a medida que entren en la atmósfera de la Tierra.\n",
    "\n",
    "Si una pieza de un asteroide que es más grande que 25 metros pero más pequeña que 1000 metros golpeara la Tierra, causaría mucho daño.\n",
    "\n",
    "La velocidad del asteroide varía en función de lo cerca que esté del sol, y cualquier velocidad superior a 25 kilómetros por segundo (km/s) merece una advertencia.\n",
    "Si un asteroide entra en la atmósfera de la Tierra a una velocidad mayor o igual a 20 km/s, a veces produce un rayo de luz que se puede ver desde la Tierra."
   ]
  },
  {
   "cell_type": "code",
   "execution_count": 16,
   "metadata": {},
   "outputs": [
    {
     "name": "stdout",
     "output_type": "stream",
     "text": [
      "No pasa nada, el asteroide se destrurá a medida que entre a la Tierra\n"
     ]
    }
   ],
   "source": [
    "tamanio = 15\n",
    "velocidad = 18\n",
    "if tamanio > 25 and velocidad > 25:\n",
    "    print(\"¡Alerta!, un asteroide viene hacia la tierra rápidamente\")\n",
    "elif velocidad >= 20:\n",
    "    print(\"¡Mira el cielo, hay una luz mágica!\")\n",
    "elif tamanio < 25:\n",
    "    print(\"No pasa nada, el asteroide se destrurá a medida que entre a la Tierra\")\n",
    "else:\n",
    "    print(\"No pasa nada\")\n",
    "    "
   ]
  }
 ],
 "metadata": {
  "interpreter": {
   "hash": "6181b1c3688de3b0056719eb8ae8dd997107105b22af933e6be00aee95bae938"
  },
  "kernelspec": {
   "display_name": "Python 3.9.10 64-bit (windows store)",
   "language": "python",
   "name": "python3"
  },
  "language_info": {
   "codemirror_mode": {
    "name": "ipython",
    "version": 3
   },
   "file_extension": ".py",
   "mimetype": "text/x-python",
   "name": "python",
   "nbconvert_exporter": "python",
   "pygments_lexer": "ipython3",
   "version": "3.9.10"
  },
  "orig_nbformat": 4
 },
 "nbformat": 4,
 "nbformat_minor": 2
}
